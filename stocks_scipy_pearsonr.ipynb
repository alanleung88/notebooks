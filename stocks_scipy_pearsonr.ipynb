{
 "cells": [
  {
   "cell_type": "markdown",
   "metadata": {},
   "source": [
    "This project checked a list of stocks against the SPY fund to identify which stocks closely correlated to the market, which ones were negatively correlated, and which ones were relatively weakly correlated using the Pearson Correlation Coefficient tool in scipy."
   ]
  },
  {
   "cell_type": "code",
   "execution_count": 3,
   "metadata": {},
   "outputs": [],
   "source": [
    "import pandas as pd\n",
    "import yfinance as yf\n",
    "import scipy.stats as stats\n",
    "\n",
    "from pandas import DataFrame as df"
   ]
  },
  {
   "cell_type": "code",
   "execution_count": 4,
   "metadata": {},
   "outputs": [
    {
     "name": "stdout",
     "output_type": "stream",
     "text": [
      "[*********************100%***********************]  1 of 1 completed\n"
     ]
    }
   ],
   "source": [
    "#Create a dataframe to track SPY performance. All other stocks will be measured against SPY.\n",
    "index = yf.download(\n",
    "    tickers = 'SPY'\n",
    "    , period = 'ytd'\n",
    "    , interval = '1d'\n",
    "    , group_by = 'interval'\n",
    " )\n",
    "\n",
    "df_index = df(index['Close'])\n",
    "df_index.columns = ['SPY']"
   ]
  },
  {
   "cell_type": "code",
   "execution_count": 5,
   "metadata": {},
   "outputs": [
    {
     "name": "stdout",
     "output_type": "stream",
     "text": [
      "[*********************100%***********************]  1 of 1 completed\n",
      "GOOG :  (0.9873060927510736, 7.278710439503012e-53)\n",
      "[*********************100%***********************]  1 of 1 completed\n",
      "AMZN :  (0.49217965954473525, 2.7002173314419626e-05)\n",
      "[*********************100%***********************]  1 of 1 completed\n",
      "MSFT :  (0.830976956093691, 5.953658781577968e-18)\n",
      "[*********************100%***********************]  1 of 1 completed\n",
      "FB :  (0.9741467017284108, 4.5796073257032505e-43)\n",
      "[*********************100%***********************]  1 of 1 completed\n",
      "NFLX :  (0.2351271396449279, 0.05737781167646358)\n",
      "[*********************100%***********************]  1 of 1 completed\n",
      "PD :  (0.8610066726224758, 1.851910453824837e-20)\n",
      "[*********************100%***********************]  1 of 1 completed\n",
      "TSLA :  (0.5517089934427635, 1.5752366859387469e-06)\n",
      "[*********************100%***********************]  1 of 1 completed\n",
      "F :  (0.9388380453273355, 2.46839410914541e-31)\n",
      "[*********************100%***********************]  1 of 1 completed\n",
      "GE :  (0.9820903613372142, 4.087795118343584e-48)\n",
      "[*********************100%***********************]  1 of 1 completed\n",
      "BA :  (0.9856390886603253, 3.680246345953419e-51)\n",
      "[*********************100%***********************]  1 of 1 completed\n",
      "NOC :  (0.9374379600991868, 4.983639883976676e-31)\n",
      "[*********************100%***********************]  1 of 1 completed\n",
      "ZM :  (-0.8157559692561893, 7.324418112774324e-17)\n",
      "[*********************100%***********************]  1 of 1 completed\n",
      "TWTR :  (0.9034928191640657, 3.099617119954865e-25)\n",
      "[*********************100%***********************]  1 of 1 completed\n",
      "SNAP :  (0.9373755563967443, 5.140226825862574e-31)\n"
     ]
    }
   ],
   "source": [
    "#Establishes a list of stocks to see how they track against the index.\n",
    "\n",
    "stock_list = [\"GOOG\", \"AMZN\", \"MSFT\", \"FB\", \"NFLX\", \"PD\", \"TSLA\", \"F\", \"GE\", \"BA\", \"NOC\", \"ZM\", \"TWTR\", \"SNAP\"]\n",
    "stock_empty = []\n",
    "\n",
    "for i in stock_list:\n",
    "    stock = yf.download(\n",
    "        tickers = i\n",
    "        , period = 'ytd'\n",
    "        , interval = '1d'\n",
    "        , group_by = 'interval'\n",
    "    )\n",
    "    df_stock = df(stock['Close'])\n",
    "    df_stock.columns = [i]\n",
    "    df_new = df_index.merge(df_stock, how='left', on='Date')\n",
    "    pearson = stats.pearsonr(df_new['SPY'], df_new[i])\n",
    "    print(i, \": \", pearson)"
   ]
  },
  {
   "cell_type": "code",
   "execution_count": 7,
   "metadata": {},
   "outputs": [
    {
     "name": "stdout",
     "output_type": "stream",
     "text": [
      "[*********************100%***********************]  1 of 1 completed\n",
      "SMSI :  (0.7209308105755784, 8.721325364831357e-12)\n",
      "[*********************100%***********************]  1 of 1 completed\n",
      "EROS :  (0.8131059096973692, 1.1073750295223529e-16)\n",
      "[*********************100%***********************]  1 of 1 completed\n",
      "EXK :  (0.9155187725259964, 5.293183224706871e-27)\n",
      "[*********************100%***********************]  1 of 1 completed\n",
      "IAG :  (0.8030072853147276, 5.048991774717118e-16)\n",
      "[*********************100%***********************]  1 of 1 completed\n",
      "USAS :  (0.954777701555685, 2.009166011438614e-35)\n"
     ]
    }
   ],
   "source": [
    "#Checking penny stocks.\n",
    "\n",
    "stock_list = [\"SMSI\", \"EROS\", \"EXK\", \"IAG\", \"USAS\"]\n",
    "stock_empty = []\n",
    "\n",
    "for i in stock_list:\n",
    "    stock = yf.download(\n",
    "        tickers = i\n",
    "        , period = 'ytd'\n",
    "        , interval = '1d'\n",
    "        , group_by = 'interval'\n",
    "    )\n",
    "    df_stock = df(stock['Close'])\n",
    "    df_stock.columns = [i]\n",
    "    df_new = df_index.merge(df_stock, how='left', on='Date')\n",
    "    pearson = stats.pearsonr(df_new['SPY'], df_new[i])\n",
    "    print(i, \": \", pearson)"
   ]
  },
  {
   "cell_type": "code",
   "execution_count": null,
   "metadata": {},
   "outputs": [],
   "source": []
  }
 ],
 "metadata": {
  "kernelspec": {
   "display_name": "Python 3",
   "language": "python",
   "name": "python3"
  },
  "language_info": {
   "codemirror_mode": {
    "name": "ipython",
    "version": 3
   },
   "file_extension": ".py",
   "mimetype": "text/x-python",
   "name": "python",
   "nbconvert_exporter": "python",
   "pygments_lexer": "ipython3",
   "version": "3.6.5"
  }
 },
 "nbformat": 4,
 "nbformat_minor": 2
}
