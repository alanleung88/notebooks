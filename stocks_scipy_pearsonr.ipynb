{
 "cells": [
  {
   "cell_type": "markdown",
   "metadata": {},
   "source": [
    "This project checked a list of stocks against the SPY fund to identify which stocks closely correlated to the market, which ones were negatively correlated, and which ones were relatively weakly correlated using the Pearson Correlation Coefficient tool in scipy."
   ]
  },
  {
   "cell_type": "code",
   "execution_count": 1,
   "metadata": {},
   "outputs": [],
   "source": [
    "import pandas as pd\n",
    "import yfinance as yf\n",
    "import scipy.stats as stats\n",
    "\n",
    "from pandas import DataFrame as df"
   ]
  },
  {
   "cell_type": "code",
   "execution_count": 11,
   "metadata": {},
   "outputs": [
    {
     "name": "stdout",
     "output_type": "stream",
     "text": [
      "[*********************100%***********************]  1 of 1 completed\n"
     ]
    }
   ],
   "source": [
    "#Create a dataframe to track SPY performance. All other stocks will be measured against SPY.\n",
    "index = yf.download(\n",
    "    tickers = 'SPY'\n",
    "    , period = '1mo'\n",
    "    , interval = '1h'\n",
    "    , group_by = 'interval'\n",
    " )\n",
    "\n",
    "df_index = df(index['Close'])\n",
    "df_index.columns = ['SPY']"
   ]
  },
  {
   "cell_type": "code",
   "execution_count": 12,
   "metadata": {},
   "outputs": [
    {
     "name": "stdout",
     "output_type": "stream",
     "text": [
      "[*********************100%***********************]  1 of 1 completed\n",
      "GOOG :  (0.9009907742777584, 0.0)\n",
      "[*********************100%***********************]  1 of 1 completed\n",
      "AMZN :  (0.07048648409550934, 0.02064192104723072)\n",
      "[*********************100%***********************]  1 of 1 completed\n",
      "MSFT :  (0.6833200139080412, 3.6510670694578674e-149)\n",
      "[*********************100%***********************]  1 of 1 completed\n",
      "FB :  (0.8422895562556075, 4.69651544643773e-291)\n",
      "[*********************100%***********************]  1 of 1 completed\n",
      "NFLX :  (0.2576560616211946, 8.303785157698475e-18)\n",
      "[*********************100%***********************]  1 of 1 completed\n",
      "PD :  (0.17388618685207677, 9.116548951136162e-09)\n",
      "[*********************100%***********************]  1 of 1 completed\n",
      "TSLA :  (0.837665925057042, 6.894697143126261e-285)\n",
      "[*********************100%***********************]  1 of 1 completed\n",
      "F :  (0.7406564487850132, 4.837348179644599e-188)\n",
      "[*********************100%***********************]  1 of 1 completed\n",
      "GE :  (0.8388881775374541, 1.687985774623651e-286)\n",
      "[*********************100%***********************]  1 of 1 completed\n",
      "BA :  (0.8549202045646748, 5.71958744154271e-309)\n",
      "[*********************100%***********************]  1 of 1 completed\n",
      "NOC :  (0.6936059356582397, 1.837668948181328e-155)\n",
      "[*********************100%***********************]  1 of 1 completed\n",
      "ZM :  (-0.42673863519081795, 6.095611063919631e-49)\n",
      "[*********************100%***********************]  1 of 1 completed\n",
      "TWTR :  (0.7527292762436001, 1.427195858612342e-197)\n",
      "[*********************100%***********************]  1 of 1 completed\n",
      "SNAP :  (0.5180607415301013, 4.506956395197029e-75)\n"
     ]
    }
   ],
   "source": [
    "#Establishes a list of stocks to see how they track against the index.\n",
    "\n",
    "stock_list = [\"GOOG\", \"AMZN\", \"MSFT\", \"FB\", \"NFLX\", \"PD\", \"TSLA\", \"F\", \"GE\", \"BA\", \"NOC\", \"ZM\", \"TWTR\", \"SNAP\"]\n",
    "stock_empty = []\n",
    "\n",
    "for i in stock_list:\n",
    "    stock = yf.download(\n",
    "        tickers = i\n",
    "        , period = '1mo'\n",
    "        , interval = '1h'\n",
    "        , group_by = 'interval'\n",
    "    )\n",
    "    df_stock = df(stock['Close'])\n",
    "    df_stock.columns = [i]\n",
    "    df_new = df_index.merge(df_stock, how='left', on='Date')\n",
    "    pearson = stats.pearsonr(df_new['SPY'], df_new[i])\n",
    "    print(i, \": \", pearson)"
   ]
  },
  {
   "cell_type": "code",
   "execution_count": 13,
   "metadata": {},
   "outputs": [
    {
     "name": "stdout",
     "output_type": "stream",
     "text": [
      "[*********************100%***********************]  1 of 1 completed\n",
      "SMSI :  (0.8393995880207358, 3.5418452911987143e-287)\n",
      "[*********************100%***********************]  1 of 1 completed\n",
      "EROS :  (0.50536544627718, 5.99185242364576e-71)\n",
      "[*********************100%***********************]  1 of 1 completed\n",
      "EXK :  (0.4629170500366776, 2.341095843023256e-58)\n",
      "[*********************100%***********************]  1 of 1 completed\n",
      "IAG :  (0.5578235595865209, 3.4979144876365446e-89)\n",
      "[*********************100%***********************]  1 of 1 completed\n",
      "USAS :  (0.627286002604527, 5.695726193776324e-119)\n"
     ]
    }
   ],
   "source": [
    "#Checking penny stocks.\n",
    "\n",
    "stock_list = [\"SMSI\", \"EROS\", \"EXK\", \"IAG\", \"USAS\"]\n",
    "stock_empty = []\n",
    "\n",
    "for i in stock_list:\n",
    "    stock = yf.download(\n",
    "        tickers = i\n",
    "        , period = '1mo'\n",
    "        , interval = '1h'\n",
    "        , group_by = 'interval'\n",
    "    )\n",
    "    df_stock = df(stock['Close'])\n",
    "    df_stock.columns = [i]\n",
    "    df_new = df_index.merge(df_stock, how='left', on='Date')\n",
    "    pearson = stats.pearsonr(df_new['SPY'], df_new[i])\n",
    "    print(i, \": \", pearson)"
   ]
  },
  {
   "cell_type": "code",
   "execution_count": null,
   "metadata": {},
   "outputs": [],
   "source": []
  }
 ],
 "metadata": {
  "kernelspec": {
   "display_name": "Python 3",
   "language": "python",
   "name": "python3"
  },
  "language_info": {
   "codemirror_mode": {
    "name": "ipython",
    "version": 3
   },
   "file_extension": ".py",
   "mimetype": "text/x-python",
   "name": "python",
   "nbconvert_exporter": "python",
   "pygments_lexer": "ipython3",
   "version": "3.6.5"
  }
 },
 "nbformat": 4,
 "nbformat_minor": 2
}
